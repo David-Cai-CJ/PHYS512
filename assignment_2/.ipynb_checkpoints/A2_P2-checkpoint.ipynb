{
 "cells": [
  {
   "cell_type": "markdown",
   "id": "afc164d7",
   "metadata": {},
   "source": [
    "We start with f(xmin), f(max) and test how much difference adding a middle point makes. If the improvement is above threshold, divide the interval and call the function itself. The caveat is that ****"
   ]
  },
  {
   "cell_type": "code",
   "execution_count": 1,
   "id": "74b9b945",
   "metadata": {},
   "outputs": [],
   "source": [
    "import matplotlib.pylab as plt\n",
    "import numpy as np"
   ]
  },
  {
   "cell_type": "markdown",
   "id": "38504790",
   "metadata": {},
   "source": [
    "If we want to same computing time, we supply calculated function values to recursion when dividing intervals into sub-intervals:\n",
    "```\n",
    "f(a)------f(mid)-----f(b)\n",
    "\n",
    "```\n",
    "When f(a), f(b) are passed in the `extra` field, we only need to make another function call at $f(\\frac{(a+b)}{2})$ to evaluate the improvement.\n",
    "\n",
    "***With `lazy = True`, we are NOT supplying further recursions with function values at \"head\" and \"tail\" of our interval of integration.***"
   ]
  },
  {
   "cell_type": "code",
   "execution_count": 2,
   "id": "4f1d6bc5",
   "metadata": {},
   "outputs": [],
   "source": [
    "def integrate_adaptive(fun,a,b,tol,extra=None, lazy = False):\n",
    "    calls = 0\n",
    "    \n",
    "    \n",
    "    if extra == None:\n",
    "        head = fun(a)\n",
    "        tail = fun(b)\n",
    "        calls += 2\n",
    "        \n",
    "    else:\n",
    "        head, tail = extra\n",
    "        \n",
    "    ## Just one extra function point to calculate\n",
    "    mid_pt = (a+b)/2\n",
    "    mid = fun(mid_pt)\n",
    "    \n",
    "    calls += 1\n",
    "    \n",
    "    \n",
    "    #----------- \n",
    "    int1 = (head+tail)/2 * (b-a)\n",
    "    int2 = (head+mid)/2 *(b-a)/2 + (mid+tail)/2*(b-a)/2\n",
    "    diff = np.abs(int2-int1)\n",
    "    \n",
    "    if diff < tol:\n",
    "        return int2, calls \n",
    "    \n",
    "    ###  The way it was implemented in class\n",
    "    if lazy == True:\n",
    "        new_tol = np.min([tol/2, 1e-10])\n",
    "        sub_a, calls_a = integrate_adaptive(fun,a,mid_pt, new_tol, None, lazy)\n",
    "        sub_b, calls_b = integrate_adaptive(fun,mid_pt, b, new_tol, None, lazy)\n",
    "        int3 = sub_a + sub_b\n",
    "        \n",
    "        calls += calls_a\n",
    "        calls += calls_b\n",
    "        return int3, calls \n",
    "        \n",
    "        \n",
    "    ### IF not being lazy while still being above tolerance\n",
    "    else:\n",
    "        new_tol = np.min([tol/2, 1e-10])\n",
    "        sub_a, calls_a = integrate_adaptive(fun,a,mid_pt, new_tol, (head, mid), lazy)\n",
    "        sub_b, calls_b = integrate_adaptive(fun,mid_pt, b, new_tol, (mid, tail), lazy)\n",
    "        int3 = sub_a +sub_b\n",
    "        \n",
    "        calls += calls_a\n",
    "        calls += calls_b\n",
    "        return int3, calls "
   ]
  },
  {
   "cell_type": "markdown",
   "id": "44cddb1b",
   "metadata": {},
   "source": [
    "## With a Lorentzian from -1 to 1"
   ]
  },
  {
   "cell_type": "markdown",
   "id": "8d933c49",
   "metadata": {},
   "source": [
    "### First we show how many calls are made without being lazy"
   ]
  },
  {
   "cell_type": "code",
   "execution_count": 3,
   "id": "5c60cb4e",
   "metadata": {},
   "outputs": [
    {
     "data": {
      "text/plain": [
       "(1.5707963267886056, 125549)"
      ]
     },
     "execution_count": 3,
     "metadata": {},
     "output_type": "execute_result"
    }
   ],
   "source": [
    "integrate_adaptive(lambda x :1/(1+x**2), -1, 1, 1e-7, lazy = False)"
   ]
  },
  {
   "cell_type": "markdown",
   "id": "a3678df5",
   "metadata": {},
   "source": [
    "### This is how many calls we made being lazy. :("
   ]
  },
  {
   "cell_type": "code",
   "execution_count": 4,
   "id": "1fe1ac36",
   "metadata": {},
   "outputs": [
    {
     "data": {
      "text/plain": [
       "(1.5707963267886056, 376641)"
      ]
     },
     "execution_count": 4,
     "metadata": {},
     "output_type": "execute_result"
    }
   ],
   "source": [
    "integrate_adaptive(lambda x :1/(1+x**2), -1, 1, 1e-7, lazy = True)"
   ]
  },
  {
   "cell_type": "code",
   "execution_count": 5,
   "id": "2b798056",
   "metadata": {},
   "outputs": [
    {
     "data": {
      "text/plain": [
       "1.5707963267948966"
      ]
     },
     "execution_count": 5,
     "metadata": {},
     "output_type": "execute_result"
    }
   ],
   "source": [
    "truth = np.arctan(1) - np.arctan(-1)\n",
    "truth"
   ]
  },
  {
   "cell_type": "markdown",
   "id": "637d6763",
   "metadata": {},
   "source": [
    "## With a Gaussian from -1 to 1"
   ]
  },
  {
   "cell_type": "code",
   "execution_count": 6,
   "id": "cfbd6ed2",
   "metadata": {},
   "outputs": [
    {
     "data": {
      "text/plain": [
       "(0.6826894920926933, 57781)"
      ]
     },
     "execution_count": 6,
     "metadata": {},
     "output_type": "execute_result"
    }
   ],
   "source": [
    "integrate_adaptive(lambda x :1/np.sqrt(2*np.pi)*np.exp(-x**2/2), -1, 1, 1e-7, lazy = False)"
   ]
  },
  {
   "cell_type": "code",
   "execution_count": 7,
   "id": "fc684c68",
   "metadata": {},
   "outputs": [
    {
     "data": {
      "text/plain": [
       "(0.6826894920926933, 173337)"
      ]
     },
     "execution_count": 7,
     "metadata": {},
     "output_type": "execute_result"
    }
   ],
   "source": [
    "integrate_adaptive(lambda x :1/np.sqrt(2*np.pi)*np.exp(-x**2/2), -1, 1, 1e-7, lazy = True)"
   ]
  },
  {
   "cell_type": "markdown",
   "id": "eaf43d37",
   "metadata": {},
   "source": [
    "## With a VOIGT function from -50 to 50"
   ]
  },
  {
   "cell_type": "code",
   "execution_count": 8,
   "id": "ca3e3cee",
   "metadata": {},
   "outputs": [
    {
     "data": {
      "text/plain": [
       "(0.20870928052461626, 777377)"
      ]
     },
     "execution_count": 8,
     "metadata": {},
     "output_type": "execute_result"
    }
   ],
   "source": [
    "voigt = lambda x: 1/np.sqrt(2*np.pi)*np.exp(-x**2/2) * 1/np.pi/(x**2 + 1)\n",
    "integrate_adaptive(voigt, -50, 50, 1e-7, lazy = False)"
   ]
  },
  {
   "cell_type": "code",
   "execution_count": 9,
   "id": "6d4b762a",
   "metadata": {},
   "outputs": [
    {
     "data": {
      "text/plain": [
       "(0.20870928052461626, 2332125)"
      ]
     },
     "execution_count": 9,
     "metadata": {},
     "output_type": "execute_result"
    }
   ],
   "source": [
    "integrate_adaptive(voigt, -50, 50, 1e-7, lazy = True)"
   ]
  },
  {
   "cell_type": "code",
   "execution_count": 10,
   "id": "c3c4c97c",
   "metadata": {},
   "outputs": [
    {
     "data": {
      "text/plain": [
       "(7.021176657796643, 360587)"
      ]
     },
     "execution_count": 10,
     "metadata": {},
     "output_type": "execute_result"
    }
   ],
   "source": [
    "integrate_adaptive(np.exp, -1, 2, 1e-7, lazy = False)"
   ]
  },
  {
   "cell_type": "code",
   "execution_count": 11,
   "id": "5157129f",
   "metadata": {},
   "outputs": [
    {
     "data": {
      "text/plain": [
       "(7.021176657796643, 1081755)"
      ]
     },
     "execution_count": 11,
     "metadata": {},
     "output_type": "execute_result"
    }
   ],
   "source": [
    "integrate_adaptive(np.exp, -1, 2, 1e-7, lazy = True)"
   ]
  },
  {
   "cell_type": "markdown",
   "id": "e3821703",
   "metadata": {},
   "source": [
    "We get the same job done at just $1/3$ of the time (assuming function call makes up for all the time complexity)"
   ]
  },
  {
   "cell_type": "markdown",
   "id": "37f8d784",
   "metadata": {},
   "source": []
  }
 ],
 "metadata": {
  "kernelspec": {
   "display_name": "Python 3 (ipykernel)",
   "language": "python",
   "name": "python3"
  },
  "language_info": {
   "codemirror_mode": {
    "name": "ipython",
    "version": 3
   },
   "file_extension": ".py",
   "mimetype": "text/x-python",
   "name": "python",
   "nbconvert_exporter": "python",
   "pygments_lexer": "ipython3",
   "version": "3.9.13"
  },
  "varInspector": {
   "cols": {
    "lenName": 16,
    "lenType": 16,
    "lenVar": 40
   },
   "kernels_config": {
    "python": {
     "delete_cmd_postfix": "",
     "delete_cmd_prefix": "del ",
     "library": "var_list.py",
     "varRefreshCmd": "print(var_dic_list())"
    },
    "r": {
     "delete_cmd_postfix": ") ",
     "delete_cmd_prefix": "rm(",
     "library": "var_list.r",
     "varRefreshCmd": "cat(var_dic_list()) "
    }
   },
   "types_to_exclude": [
    "module",
    "function",
    "builtin_function_or_method",
    "instance",
    "_Feature"
   ],
   "window_display": false
  }
 },
 "nbformat": 4,
 "nbformat_minor": 5
}
