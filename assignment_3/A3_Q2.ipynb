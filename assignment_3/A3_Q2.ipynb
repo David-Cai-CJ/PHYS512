{
 "cells": [
  {
   "cell_type": "code",
   "execution_count": 1,
   "id": "40090a01",
   "metadata": {},
   "outputs": [],
   "source": [
    "import numpy as np\n",
    "import matplotlib.pylab as plt\n",
    "import astropy.units as u\n",
    "from scipy.integrate  import  solve_ivp"
   ]
  },
  {
   "cell_type": "markdown",
   "id": "6d11e6bb",
   "metadata": {},
   "source": [
    "# Strategy\n",
    "`scipy.integrate.solve_ivp(fun, t_span, y0)` is simplified input form for scipy ODE solver.\n",
    "* We implement the differential equations as `fun` which take $x, y$ ($x$ not necessarily used here, but inserted as placeholder). \n",
    "* We implement the decay rates as a list containing half-lifes in seconds.\n",
    "The decay process can be described by $$\\frac{dy}{dx} = -\\frac{1}{\\text{Half Life}}y$$\n",
    "* Use solver for **STIFF** equations since often times ODEs are solved by matrices. The order of magnitude difference between different half lifes may lead to tiny timesteps using ordinary solvers."
   ]
  },
  {
   "cell_type": "code",
   "execution_count": 2,
   "id": "31e19475",
   "metadata": {},
   "outputs": [],
   "source": [
    "hl = [4.468E9*u.yr, 24.10 *u.day, 6.7*u.hr,\n",
    "      245500*u.yr, 75380*u.yr, 1600*u.yr,\n",
    "      3.8235*u.day, 3.10*u.min, 26.8*u.min,\n",
    "      19.9*u.min, 164.3*u.us, 22.3*u.yr,\n",
    "      5.015*u.yr, 138.376*u.day, 0 *u.min]\n",
    "\n",
    "## Use yrs \n",
    "hl = np.array(list(map(lambda x: x.to('yr').value, hl)))"
   ]
  },
  {
   "cell_type": "markdown",
   "id": "3a574515",
   "metadata": {},
   "source": [
    "# Decay process\n",
    "For differential equation $$\\frac{dN}{dt} = -\\frac{1}{\\tau}N$$, with solution\n",
    "$$N = N_0 \\text{Exp}(-\\frac{t}{\\tau}) = N_0 (\\frac{1}{2})^{(\\frac{t}{\\text{H.L.}})}$$\n",
    "$$-\\frac{1}{\\tau} = \\text{Ln}(2)\\frac{1}{\\text{HL}}$$\n",
    "\n",
    "We create the system of differential equations:"
   ]
  },
  {
   "cell_type": "code",
   "execution_count": 3,
   "id": "c70fa63d",
   "metadata": {},
   "outputs": [],
   "source": [
    "def dydx(t, y):\n",
    "    dydx = np.zeros(len(hl))\n",
    "    # U-238 decayed from nothing\n",
    "    dydx[0] = - y[0] / hl[0] * np.log(2)\n",
    "    # Pb-206 decays into nothing\n",
    "    dydx[-1] = y[-2] / hl[-2] * np.log(2)\n",
    "    \n",
    "    # Compute decay rates. One in, one out.\n",
    "    for i in range(1,len(hl)-1):\n",
    "        dydx[i] = - y[i] / hl[i] * np.log(2) + y[i-1] / hl[i-1] * np.log(2)\n",
    "        \n",
    "    return dydx"
   ]
  },
  {
   "cell_type": "markdown",
   "id": "07a179ca",
   "metadata": {},
   "source": [
    "## Suppose that we express the problem in terms of ratio.  We start with 100% Uranium."
   ]
  },
  {
   "cell_type": "code",
   "execution_count": 4,
   "id": "9736c470",
   "metadata": {},
   "outputs": [],
   "source": [
    "y0 = np.zeros(len(hl))\n",
    "y0[0] = 1"
   ]
  },
  {
   "cell_type": "markdown",
   "id": "cc66d168",
   "metadata": {},
   "source": [
    "## The longest decay is from U-238 with half life ~4 Billion years. We set our timescale on the same order and expect roughly half of U-238 to remain."
   ]
  },
  {
   "cell_type": "code",
   "execution_count": 5,
   "id": "cd43e9fe",
   "metadata": {},
   "outputs": [],
   "source": [
    "stiff = solve_ivp(dydx, [0, 4E10], y0, method = 'Radau', max_step = 1E9)"
   ]
  },
  {
   "cell_type": "markdown",
   "id": "3c2f1bc0",
   "metadata": {},
   "source": [
    "## Check that total number of particles is conserved."
   ]
  },
  {
   "cell_type": "code",
   "execution_count": 6,
   "id": "155ea70a",
   "metadata": {},
   "outputs": [
    {
     "data": {
      "text/plain": [
       "1.0"
      ]
     },
     "execution_count": 6,
     "metadata": {},
     "output_type": "execute_result"
    }
   ],
   "source": [
    "stiff.t\n",
    "np.sum(stiff.y[:,-1])"
   ]
  },
  {
   "cell_type": "code",
   "execution_count": 7,
   "id": "2dc1359e",
   "metadata": {},
   "outputs": [
    {
     "name": "stdout",
     "output_type": "stream",
     "text": [
      "Total number of evaluations =  373\n"
     ]
    }
   ],
   "source": [
    "print(\"Total number of evaluations = \".ljust(20), stiff.nfev)"
   ]
  },
  {
   "cell_type": "markdown",
   "id": "31cef155",
   "metadata": {},
   "source": [
    "## On large time scale, the intermediate stages can all be ignored as if U-238 decays straight into Pb-206."
   ]
  },
  {
   "cell_type": "code",
   "execution_count": 8,
   "id": "d1f24bea",
   "metadata": {},
   "outputs": [
    {
     "data": {
      "text/plain": [
       "<matplotlib.legend.Legend at 0x124d2c9d0>"
      ]
     },
     "execution_count": 8,
     "metadata": {},
     "output_type": "execute_result"
    },
    {
     "data": {
      "image/png": "[encoded data removed]",
      "text/plain": [
       "<Figure size 640x480 with 1 Axes>"
      ]
     },
     "metadata": {},
     "output_type": "display_data"
    }
   ],
   "source": [
    "# plt.plot(stiff.t/1e9, stiff.y[0,:], 'k--', label  = 'U-238')\n",
    "# plt.plot(stiff.t/1e9, stiff.y[-1,:], 'r--', label  = 'Pb-206')\n",
    "plt.plot(stiff.t/1e9, stiff.y[-1,:]/stiff.y[0,:], 'k--', label  = 'Pb-206/U-238')\n",
    "plt.xlabel('Billion Years (byr)')\n",
    "plt.ylabel('Ratio')\n",
    "plt.legend()"
   ]
  },
  {
   "cell_type": "markdown",
   "id": "fb177913",
   "metadata": {},
   "source": [
    "The half life of both species are on the order of 100 thousand years. Here we plot 500 thousand years and use `max_step` = 50 thousand years to smooth out our solution."
   ]
  },
  {
   "cell_type": "code",
   "execution_count": 9,
   "id": "5f9ee402",
   "metadata": {},
   "outputs": [
    {
     "name": "stderr",
     "output_type": "stream",
     "text": [
      "/var/folders/rf/fhph1j5j7zlg762tv5pj75_40000gn/T/ipykernel_95342/2834269518.py:5: RuntimeWarning: invalid value encountered in divide\n",
      "  plt.plot(stiff.t/1e3, stiff.y[4,:]/stiff.y[3,:], 'k--', label  = 'Th-230/U-234')\n"
     ]
    },
    {
     "data": {
      "text/plain": [
       "<matplotlib.legend.Legend at 0x125066eb0>"
      ]
     },
     "execution_count": 9,
     "metadata": {},
     "output_type": "execute_result"
    },
    {
     "data": {
      "image/png": "[encoded data removed]",
      "text/plain": [
       "<Figure size 640x480 with 1 Axes>"
      ]
     },
     "metadata": {},
     "output_type": "display_data"
    }
   ],
   "source": [
    "stiff = solve_ivp(dydx, [0, 1000e3], y0, method = 'Radau', max_step = 10e3)\n",
    "\n",
    "# plt.plot(stiff.t/1e9, stiff.y[3,:], 'b--', label  = 'U-234')\n",
    "# plt.plot(stiff.t/1e9, stiff.y[4,:], 'r--', label  = 'Th-230')\n",
    "plt.plot(stiff.t/1e3, stiff.y[4,:]/stiff.y[3,:], 'k--', label  = 'Th-230/U-234')\n",
    "plt.xlabel('Thousand Years (kyr)')\n",
    "plt.ylabel('Ratio')\n",
    "plt.legend()"
   ]
  },
  {
   "cell_type": "markdown",
   "id": "78b98f36",
   "metadata": {},
   "source": [
    "## An error warning due to the initial division of zero by zero."
   ]
  },
  {
   "cell_type": "code",
   "execution_count": null,
   "id": "fde7d8f9",
   "metadata": {},
   "outputs": [],
   "source": []
  },
  {
   "cell_type": "code",
   "execution_count": null,
   "id": "4a51301b",
   "metadata": {},
   "outputs": [],
   "source": []
  }
 ],
 "metadata": {
  "kernelspec": {
   "display_name": "Python 3 (ipykernel)",
   "language": "python",
   "name": "python3"
  },
  "language_info": {
   "codemirror_mode": {
    "name": "ipython",
    "version": 3
   },
   "file_extension": ".py",
   "mimetype": "text/x-python",
   "name": "python",
   "nbconvert_exporter": "python",
   "pygments_lexer": "ipython3",
   "version": "3.9.13"
  },
  "varInspector": {
   "cols": {
    "lenName": 16,
    "lenType": 16,
    "lenVar": 40
   },
   "kernels_config": {
    "python": {
     "delete_cmd_postfix": "",
     "delete_cmd_prefix": "del ",
     "library": "var_list.py",
     "varRefreshCmd": "print(var_dic_list())"
    },
    "r": {
     "delete_cmd_postfix": ") ",
     "delete_cmd_prefix": "rm(",
     "library": "var_list.r",
     "varRefreshCmd": "cat(var_dic_list()) "
    }
   },
   "types_to_exclude": [
    "module",
    "function",
    "builtin_function_or_method",
    "instance",
    "_Feature"
   ],
   "window_display": false
  }
 },
 "nbformat": 4,
 "nbformat_minor": 5
}
